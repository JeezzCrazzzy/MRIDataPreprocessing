{
 "cells": [
  {
   "cell_type": "code",
   "execution_count": 1,
   "id": "2314dc0e",
   "metadata": {},
   "outputs": [
    {
     "name": "stdout",
     "output_type": "stream",
     "text": [
      "AntsPy version = 0.5.4\n",
      "SimpleITK version = 2.5.0\n"
     ]
    }
   ],
   "source": [
    "%matplotlib inline\n",
    "import os\n",
    "from helpers import *\n",
    "\n",
    "import ants\n",
    "import SimpleITK as sitk\n",
    "\n",
    "print(f'AntsPy version = {ants.__version__}')\n",
    "print(f'SimpleITK version = {sitk.__version__}')\n"
   ]
  },
  {
   "cell_type": "code",
   "execution_count": 2,
   "id": "5ced7e41",
   "metadata": {},
   "outputs": [
    {
     "name": "stdout",
     "output_type": "stream",
     "text": [
      "project folder = c:\\Users\\CHEEZYJEEZY\\Desktop\\MRIdata_preprocessing\n"
     ]
    }
   ],
   "source": [
    "BASE_DIR = os.path.dirname(os.path.abspath(\"__file__\"))\n",
    "print(f'project folder = {BASE_DIR}')"
   ]
  },
  {
   "cell_type": "code",
   "execution_count": 3,
   "id": "7144cdf7",
   "metadata": {},
   "outputs": [],
   "source": [
    "test_examples = [\n",
    "    'BRAINIX_NIFTI_FLAIR.nii.gz',\n",
    "    'BRAINIX_NIFTI_Output_3D_File.nii.gz',\n",
    "    'BRAINIX_NIFTI_ROI.nii.gz',\n",
    "    'BRAINIX_NIFTI_T1.nii.gz',\n",
    "    'BRAINIX_NIFTI_T2.nii.gz'\n",
    "]\n",
    "\n",
    "test_example = test_examples[0]"
   ]
  },
  {
   "cell_type": "code",
   "execution_count": 4,
   "id": "32c6fff9",
   "metadata": {},
   "outputs": [
    {
     "data": {
      "application/vnd.jupyter.widget-view+json": {
       "model_id": "4bf8cf91f3c64f0eb53f7c6651974dfb",
       "version_major": 2,
       "version_minor": 0
      },
      "text/plain": [
       "interactive(children=(IntSlider(value=10, description='SLICE', max=21), Output()), _dom_classes=('widget-inter…"
      ]
     },
     "metadata": {},
     "output_type": "display_data"
    }
   ],
   "source": [
    "raw_img_path = os.path.join(BASE_DIR, 'NifT', test_example)\n",
    "raw_img_ants = ants.image_read(raw_img_path, reorient= 'IAL')\n",
    "\n",
    "explore_3D_array(arr = raw_img_ants.numpy(), cmap = 'nipy_spectral')"
   ]
  },
  {
   "cell_type": "code",
   "execution_count": 5,
   "id": "3734f609",
   "metadata": {},
   "outputs": [
    {
     "data": {
      "application/vnd.jupyter.widget-view+json": {
       "model_id": "21ae526e400148c7b01e4266d824ee3f",
       "version_major": 2,
       "version_minor": 0
      },
      "text/plain": [
       "interactive(children=(IntSlider(value=10, description='SLICE', max=21), Output()), _dom_classes=('widget-inter…"
      ]
     },
     "metadata": {},
     "output_type": "display_data"
    }
   ],
   "source": [
    "transformed = ants.denoise_image(raw_img_ants, shrink_factor= 5)\n",
    "\n",
    "explore_3D_array_comparison(\n",
    "    arr_before=raw_img_ants.numpy(),\n",
    "    arr_after= transformed.numpy()\n",
    ")"
   ]
  },
  {
   "cell_type": "code",
   "execution_count": 6,
   "id": "f899e163",
   "metadata": {},
   "outputs": [
    {
     "name": "stdout",
     "output_type": "stream",
     "text": [
      "(22, 288, 288)\n"
     ]
    },
    {
     "data": {
      "application/vnd.jupyter.widget-view+json": {
       "model_id": "7efe0de133624beaa145c050f203d199",
       "version_major": 2,
       "version_minor": 0
      },
      "text/plain": [
       "interactive(children=(IntSlider(value=10, description='SLICE', max=21), Output()), _dom_classes=('widget-inter…"
      ]
     },
     "metadata": {},
     "output_type": "display_data"
    }
   ],
   "source": [
    "raw_img_sitk = sitk.ReadImage(raw_img_path, sitk.sitkFloat32)\n",
    "raw_img_sitk = sitk.DICOMOrient(raw_img_sitk, 'RPS')\n",
    "raw_img_sitk_arr = sitk.GetArrayFromImage(raw_img_sitk)\n",
    "print(raw_img_sitk_arr.shape)\n",
    "explore_3D_array(arr = raw_img_sitk_arr,\n",
    "                 cmap = 'nipy_spectral')"
   ]
  },
  {
   "cell_type": "markdown",
   "id": "7193ed89",
   "metadata": {},
   "source": [
    "Denoising using SITK"
   ]
  },
  {
   "cell_type": "code",
   "execution_count": 7,
   "id": "abb54f56",
   "metadata": {},
   "outputs": [
    {
     "data": {
      "application/vnd.jupyter.widget-view+json": {
       "model_id": "71dce903d1384f4193656d0c38e9bc09",
       "version_major": 2,
       "version_minor": 0
      },
      "text/plain": [
       "interactive(children=(IntSlider(value=10, description='SLICE', max=21), Output()), _dom_classes=('widget-inter…"
      ]
     },
     "metadata": {},
     "output_type": "display_data"
    }
   ],
   "source": [
    "transformed = sitk.RescaleIntensity(raw_img_sitk, 0, 255)\n",
    "\n",
    "transformed = sitk.LiThreshold(transformed, 0,1)\n",
    "\n",
    "head_mask = transformed\n",
    "\n",
    "explore_3D_array_comparison(\n",
    "    arr_before = sitk.GetArrayFromImage(raw_img_sitk),\n",
    "    arr_after = sitk.GetArrayFromImage(head_mask),\n",
    ")"
   ]
  },
  {
   "cell_type": "markdown",
   "id": "86aa9634",
   "metadata": {},
   "source": [
    "Bias Correction(Intensity Normalization using SITK)"
   ]
  },
  {
   "cell_type": "code",
   "execution_count": 8,
   "id": "d76590a6",
   "metadata": {},
   "outputs": [],
   "source": [
    "shrinkFactor = 4\n",
    "inputImage = raw_img_sitk\n",
    "\n",
    "inputImage = sitk.Shrink( raw_img_sitk, [ shrinkFactor ] * inputImage.GetDimension())\n",
    "maskImage = sitk.Shrink( head_mask, [shrinkFactor]* inputImage.GetDimension())\n",
    "\n",
    "bias_corrector = sitk.N4BiasFieldCorrectionImageFilter()\n",
    "\n",
    "corrected = bias_corrector.Execute(inputImage, maskImage)"
   ]
  },
  {
   "cell_type": "code",
   "execution_count": null,
   "id": "6b369af2",
   "metadata": {},
   "outputs": [
    {
     "data": {
      "application/vnd.jupyter.widget-view+json": {
       "model_id": "110b15c86e1041a8911b96a4892e913e",
       "version_major": 2,
       "version_minor": 0
      },
      "text/plain": [
       "interactive(children=(IntSlider(value=10, description='SLICE', max=21), Output()), _dom_classes=('widget-inter…"
      ]
     },
     "metadata": {},
     "output_type": "display_data"
    }
   ],
   "source": [
    "log_bias_field = bias_corrector.GetLogBiasFieldAsImage(raw_img_sitk)\n",
    "corrected_image_full_resolution = raw_img_sitk / sitk.Exp(log_bias_field)\n",
    "\n",
    "explore_3D_array_comparison(\n",
    "    sitk.GetArrayFromImage(raw_img_sitk),\n",
    "    sitk.GetArrayFromImage(corrected_image_full_resolution),\n",
    "    cmap = 'viridis',\n",
    ")"
   ]
  },
  {
   "cell_type": "markdown",
   "id": "3fa138b6",
   "metadata": {},
   "source": [
    "Image Registration using SITK"
   ]
  },
  {
   "cell_type": "code",
   "execution_count": null,
   "id": "286bb8eb",
   "metadata": {},
   "outputs": [
    {
     "data": {
      "application/vnd.jupyter.widget-view+json": {
       "model_id": "4567732c6ff848cbb80b24986e46241d",
       "version_major": 2,
       "version_minor": 0
      },
      "text/plain": [
       "interactive(children=(IntSlider(value=90, description='SLICE', max=181), Output()), _dom_classes=('widget-inte…"
      ]
     },
     "metadata": {},
     "output_type": "display_data"
    }
   ],
   "source": [
    "template_img_path = os.path.join(BASE_DIR, 'Template', 'TEMPLATE_MNI152_T1_1mm_brain.nii.gz' )\n",
    "template_img_ants = ants.image_read(template_img_path, reorient = 'IAL')\n",
    "\n",
    "explore_3D_array(arr = template_img_ants.numpy())"
   ]
  },
  {
   "cell_type": "code",
   "execution_count": 13,
   "id": "47280f5e",
   "metadata": {},
   "outputs": [
    {
     "name": "stdout",
     "output_type": "stream",
     "text": [
      "Brain extraction:  retrieving model weights.\n",
      "Brain extraction:  retrieving template.\n",
      "Brain extraction:  normalizing image to the template.\n",
      "Brain extraction:  prediction and decoding.\n",
      "\u001b[1m1/1\u001b[0m \u001b[32m━━━━━━━━━━━━━━━━━━━━\u001b[0m\u001b[37m\u001b[0m \u001b[1m5s\u001b[0m 5s/step\n",
      "Brain extraction:  renormalize probability mask to native space.\n"
     ]
    }
   ],
   "source": [
    "from antspynet.utilities import brain_extraction\n",
    "prob_brain_mask = brain_extraction(raw_img_ants,modality='t1', verbose = True)"
   ]
  },
  {
   "cell_type": "code",
   "execution_count": 14,
   "id": "3333aa1c",
   "metadata": {},
   "outputs": [
    {
     "name": "stdout",
     "output_type": "stream",
     "text": [
      "ANTsImage (IAL)\n",
      "\t Pixel Type : float (float32)\n",
      "\t Components : 1\n",
      "\t Dimensions : (22, 288, 288)\n",
      "\t Spacing    : (6.0, 0.7986, 0.7986)\n",
      "\t Origin     : (113.655, -109.7964, -36.4214)\n",
      "\t Direction  : [-0.0239 -0.0017 -0.9997 -0.072   0.9974  0.      0.9971  0.072  -0.024 ]\n",
      "\n"
     ]
    },
    {
     "data": {
      "application/vnd.jupyter.widget-view+json": {
       "model_id": "72e173ddc6364f578d1693147e2ce8b3",
       "version_major": 2,
       "version_minor": 0
      },
      "text/plain": [
       "interactive(children=(IntSlider(value=10, description='SLICE', max=21), Output()), _dom_classes=('widget-inter…"
      ]
     },
     "metadata": {},
     "output_type": "display_data"
    }
   ],
   "source": [
    "print(prob_brain_mask)\n",
    "\n",
    "explore_3D_array(prob_brain_mask.numpy())"
   ]
  },
  {
   "cell_type": "markdown",
   "id": "2a16eb71",
   "metadata": {},
   "source": [
    "Generate final mask"
   ]
  },
  {
   "cell_type": "code",
   "execution_count": 15,
   "id": "5acef7b3",
   "metadata": {},
   "outputs": [],
   "source": [
    "brain_mask = ants.get_mask(prob_brain_mask, low_thresh = 0.5)"
   ]
  },
  {
   "cell_type": "code",
   "execution_count": null,
   "id": "25ec80ac",
   "metadata": {},
   "outputs": [
    {
     "data": {
      "application/vnd.jupyter.widget-view+json": {
       "model_id": "d0d96a6681d94037aea664fef1e69573",
       "version_major": 2,
       "version_minor": 0
      },
      "text/plain": [
       "interactive(children=(IntSlider(value=10, description='SLICE', max=21), Output()), _dom_classes=('widget-inter…"
      ]
     },
     "metadata": {},
     "output_type": "display_data"
    }
   ],
   "source": [
    "explore_3D_array_with_mask_contour(raw_img_ants.numpy(), brain_mask.numpy())"
   ]
  },
  {
   "cell_type": "code",
   "execution_count": 17,
   "id": "1401e691",
   "metadata": {},
   "outputs": [
    {
     "name": "stdout",
     "output_type": "stream",
     "text": [
      "\\NifT\\BRAINIX_NIFTI_FLAIR.nii.gz\n",
      "\\assets\\testoutput\\BRAINIX_NIFTI_FLAIR\\BRAINIX_NIFTI_FLAIR_brainmaskbyDL.nii.gz\n"
     ]
    }
   ],
   "source": [
    "out_folder = os.path.join(BASE_DIR, 'assets', 'testoutput')\n",
    "out_folder = os.path.join(out_folder, test_example.split('.')[0])\n",
    "os.makedirs(out_folder, exist_ok = True)\n",
    "\n",
    "out_filename = add_suffix_to_filename(test_example, suffix = 'brainmaskbyDL')\n",
    "out_path = os.path.join(out_folder, out_filename)\n",
    "\n",
    "print(raw_img_path[len(BASE_DIR) :])\n",
    "print(out_path[len(BASE_DIR) :])"
   ]
  },
  {
   "cell_type": "code",
   "execution_count": 18,
   "id": "d040d648",
   "metadata": {},
   "outputs": [],
   "source": [
    "brain_mask.to_filename(out_path)"
   ]
  },
  {
   "cell_type": "code",
   "execution_count": null,
   "id": "415ce2b5",
   "metadata": {},
   "outputs": [
    {
     "data": {
      "application/vnd.jupyter.widget-view+json": {
       "model_id": "6cee3cd94e4d4782a45e5e49e06ae665",
       "version_major": 2,
       "version_minor": 0
      },
      "text/plain": [
       "interactive(children=(IntSlider(value=10, description='SLICE', max=21), Output()), _dom_classes=('widget-inter…"
      ]
     },
     "metadata": {},
     "output_type": "display_data"
    }
   ],
   "source": [
    "transformed = ants.mask_image(raw_img_ants, brain_mask)\n",
    "explore_3D_array(  arr = transformed.numpy())"
   ]
  },
  {
   "cell_type": "code",
   "execution_count": null,
   "id": "130e9ef8",
   "metadata": {},
   "outputs": [],
   "source": []
  }
 ],
 "metadata": {
  "kernelspec": {
   "display_name": ".venv",
   "language": "python",
   "name": "python3"
  },
  "language_info": {
   "codemirror_mode": {
    "name": "ipython",
    "version": 3
   },
   "file_extension": ".py",
   "mimetype": "text/x-python",
   "name": "python",
   "nbconvert_exporter": "python",
   "pygments_lexer": "ipython3",
   "version": "3.12.8"
  }
 },
 "nbformat": 4,
 "nbformat_minor": 5
}
