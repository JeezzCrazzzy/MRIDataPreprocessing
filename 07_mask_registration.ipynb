{
 "cells": [
  {
   "cell_type": "markdown",
   "id": "e1f21847",
   "metadata": {},
   "source": [
    "Registration of Masks\n",
    "\n",
    "After registering an image, we register it using a specific mask."
   ]
  },
  {
   "cell_type": "code",
   "execution_count": 1,
   "id": "c334cb7a",
   "metadata": {},
   "outputs": [
    {
     "name": "stdout",
     "output_type": "stream",
     "text": [
      "AntsPy version = 0.5.4\n",
      "SimpleITK version = 2.5.0\n"
     ]
    }
   ],
   "source": [
    "%matplotlib inline\n",
    "import os\n",
    "from helpers import *\n",
    "\n",
    "import ants\n",
    "import SimpleITK as sitk\n",
    "\n",
    "print(f'AntsPy version = {ants.__version__}')\n",
    "print(f'SimpleITK version = {sitk.__version__}')"
   ]
  },
  {
   "cell_type": "code",
   "execution_count": 2,
   "id": "a9ef4e1a",
   "metadata": {},
   "outputs": [
    {
     "name": "stdout",
     "output_type": "stream",
     "text": [
      "project folder = c:\\Users\\CHEEZYJEEZY\\Desktop\\MRIdata_preprocessing\n"
     ]
    }
   ],
   "source": [
    "BASE_DIR = os.path.dirname(os.path.abspath(\"__file__\"))\n",
    "print(f'project folder = {BASE_DIR}')"
   ]
  },
  {
   "cell_type": "code",
   "execution_count": 3,
   "id": "33069f2d",
   "metadata": {},
   "outputs": [
    {
     "data": {
      "application/vnd.jupyter.widget-view+json": {
       "model_id": "a9084df2f5e642db9d94785a4d70baca",
       "version_major": 2,
       "version_minor": 0
      },
      "text/plain": [
       "interactive(children=(IntSlider(value=95, description='SLICE', max=191), Output()), _dom_classes=('widget-inte…"
      ]
     },
     "metadata": {},
     "output_type": "display_data"
    }
   ],
   "source": [
    "raw_img_path = os.path.join(BASE_DIR, 'assets', 'raw_examples', 'brain-lesion_T1w.nii.gz')\n",
    "raw_img_ants = ants.image_read(raw_img_path, reorient = 'IAL')\n",
    "\n",
    "template_img_path = os.path.join(BASE_DIR, 'assets', 'templates', 'mni_icbm152_t1_tal_nlin_sym_09a.nii' )\n",
    "template_img_ants = ants.image_read(template_img_path, reorient = 'IAL')\n",
    "\n",
    "mask_img_path = os.path.join(BASE_DIR, 'assets', 'raw_examples', 'brain-lesion_T1w_mask.nii.gz')\n",
    "mask_img_ants = ants.image_read(mask_img_path, reorient = 'IAL')\n",
    "\n",
    "explore_3D_array_with_mask_contour(raw_img_ants.numpy(), mask_img_ants.numpy())"
   ]
  },
  {
   "cell_type": "code",
   "execution_count": 4,
   "id": "78107128",
   "metadata": {},
   "outputs": [
    {
     "name": "stdout",
     "output_type": "stream",
     "text": [
      "antsRegistration -d 3 -r [0000019C9476E988,0000019C9476EE08,1] -m mattes[0000019C9476E988,0000019C9476EE08,1,32,regular,0.2] -t Affine[0.25] -c 2100x1200x1200x0 -s 3x2x1x0 -f 4x2x2x1 -x [NA,NA] -m mattes[0000019C9476E988,0000019C9476EE08,1,32] -t SyN[0.200000,3.000000,0.000000] -c [40x20x0,1e-7,8] -s 2x1x0 -f 4x2x1 -u 1 -z 1 -o [C:\\Users\\CHEEZY~1\\AppData\\Local\\Temp\\tmpi2wd1gqb,0000019CEF5E34E8,0000019CEF5E3E68] -x [NA,NA] --float 1 --write-composite-transform 0 -v 1\n"
     ]
    }
   ],
   "source": [
    "transformation = ants.registration(\n",
    "    fixed = template_img_ants,\n",
    "    moving = raw_img_ants,\n",
    "    type_of_transform = 'SyN',\n",
    "    verbose = True\n",
    ")"
   ]
  },
  {
   "cell_type": "code",
   "execution_count": 5,
   "id": "f0ccdfe4",
   "metadata": {},
   "outputs": [],
   "source": [
    "registered_img_ants = transformation['warpedmovout']"
   ]
  },
  {
   "cell_type": "code",
   "execution_count": 7,
   "id": "848783ea",
   "metadata": {},
   "outputs": [],
   "source": [
    "raw_examples = [\n",
    "    'fsl-open-dev_sub-001_T1w.nii.gz',\n",
    "    'wash-120_sub-001_T1w.nii.gz',\n",
    "    'kf-panda_sub-01_ses-3T_T1w.nii.gz',\n",
    "    'listen-task_sub-UTS01_ses-1_T1w.nii.gz'\n",
    "]\n",
    "\n",
    "raw_example = raw_examples[0]"
   ]
  },
  {
   "cell_type": "code",
   "execution_count": 8,
   "id": "3f8f6ac1",
   "metadata": {},
   "outputs": [
    {
     "name": "stdout",
     "output_type": "stream",
     "text": [
      "\\assets\\raw_examples\\brain-lesion_T1w.nii.gz\n",
      "\\assets\\preprocessed\\fsl-open-dev_sub-001_T1w\\fsl-open-dev_sub-001_T1w_registered.nii.gz\n"
     ]
    }
   ],
   "source": [
    "out_folder = os.path.join(BASE_DIR, 'assets', 'preprocessed')\n",
    "out_folder = os.path.join(out_folder, raw_example.split('.')[0])\n",
    "os.makedirs(out_folder, exist_ok = True)\n",
    "\n",
    "out_filename = add_suffix_to_filename(raw_example, suffix = 'registered')\n",
    "out_path = os.path.join(out_folder, out_filename)\n",
    "\n",
    "print(raw_img_path[len(BASE_DIR) :])\n",
    "print(out_path[len(BASE_DIR) :])"
   ]
  },
  {
   "cell_type": "code",
   "execution_count": 9,
   "id": "157eadee",
   "metadata": {},
   "outputs": [],
   "source": [
    "registered_img_ants.to_file(out_path)"
   ]
  },
  {
   "cell_type": "markdown",
   "id": "c701746b",
   "metadata": {},
   "source": [
    "Move raw mask from native space"
   ]
  },
  {
   "cell_type": "code",
   "execution_count": 10,
   "id": "a1529b01",
   "metadata": {},
   "outputs": [
    {
     "name": "stdout",
     "output_type": "stream",
     "text": [
      "['-d', '3', '-i', '0000019C94D78548', '-o', '0000019C94D79268', '-r', '0000019C94D792C8', '-n', 'linear', '-t', 'C:\\\\Users\\\\CHEEZY~1\\\\AppData\\\\Local\\\\Temp\\\\tmpi2wd1gqb1Warp.nii.gz', '-t', 'C:\\\\Users\\\\CHEEZY~1\\\\AppData\\\\Local\\\\Temp\\\\tmpi2wd1gqb0GenericAffine.mat']\n"
     ]
    }
   ],
   "source": [
    "registered_mask_img_ants = ants.apply_transforms(\n",
    "    moving = mask_img_ants,\n",
    "    fixed = transformation['warpedmovout'],\n",
    "    transformlist = transformation['fwdtransforms'],\n",
    "    verbose = True\n",
    ")"
   ]
  },
  {
   "cell_type": "code",
   "execution_count": null,
   "id": "eddda62b",
   "metadata": {},
   "outputs": [
    {
     "data": {
      "application/vnd.jupyter.widget-view+json": {
       "model_id": "8d91027a9f2e4071a653e4667a6b97b3",
       "version_major": 2,
       "version_minor": 0
      },
      "text/plain": [
       "interactive(children=(IntSlider(value=94, description='SLICE', max=188), Output()), _dom_classes=('widget-inte…"
      ]
     },
     "metadata": {},
     "output_type": "display_data"
    }
   ],
   "source": [
    "explore_3D_array_with_mask_contour(\n",
    "    arr = registered_img_ants.numpy(),\n",
    "    mask = registered_mask_img_ants.numpy()\n",
    ")"
   ]
  },
  {
   "cell_type": "code",
   "execution_count": 13,
   "id": "28ae1308",
   "metadata": {},
   "outputs": [
    {
     "name": "stdout",
     "output_type": "stream",
     "text": [
      "\\assets\\preprocessed\\fsl-open-dev_sub-001_T1w\\fsl-open-dev_sub-001_T1w_registered.nii.gz\n"
     ]
    }
   ],
   "source": [
    "put_filename = add_suffix_to_filename(raw_example, suffix = 'registered')\n",
    "out_path = os.path.join(out_folder, put_filename)\n",
    "\n",
    "print(out_path[len(BASE_DIR) :])"
   ]
  },
  {
   "cell_type": "code",
   "execution_count": 14,
   "id": "6320f72c",
   "metadata": {},
   "outputs": [],
   "source": [
    "registered_mask_img_ants.to_file(out_path)"
   ]
  }
 ],
 "metadata": {
  "kernelspec": {
   "display_name": ".venv",
   "language": "python",
   "name": "python3"
  },
  "language_info": {
   "codemirror_mode": {
    "name": "ipython",
    "version": 3
   },
   "file_extension": ".py",
   "mimetype": "text/x-python",
   "name": "python",
   "nbconvert_exporter": "python",
   "pygments_lexer": "ipython3",
   "version": "3.12.8"
  }
 },
 "nbformat": 4,
 "nbformat_minor": 5
}
