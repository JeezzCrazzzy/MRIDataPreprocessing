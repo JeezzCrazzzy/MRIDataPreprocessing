{
 "cells": [
  {
   "cell_type": "markdown",
   "id": "23ee2615",
   "metadata": {},
   "source": [
    "Bias Field Correction"
   ]
  },
  {
   "cell_type": "markdown",
   "id": "20b1a43b",
   "metadata": {},
   "source": [
    "BFC is done to increase homogenity in intensity around the main head region."
   ]
  },
  {
   "cell_type": "code",
   "execution_count": 2,
   "id": "ee4cb9b6",
   "metadata": {},
   "outputs": [
    {
     "name": "stdout",
     "output_type": "stream",
     "text": [
      "AntsPy version = 0.5.4\n",
      "SimpleITK version = 2.5.0\n"
     ]
    }
   ],
   "source": [
    "%matplotlib inline\n",
    "import os\n",
    "from helpers import *\n",
    "\n",
    "import ants\n",
    "import SimpleITK as sitk\n",
    "\n",
    "print(f'AntsPy version = {ants.__version__}')\n",
    "print(f'SimpleITK version = {sitk.__version__}')"
   ]
  },
  {
   "cell_type": "code",
   "execution_count": 3,
   "id": "aeca2d11",
   "metadata": {},
   "outputs": [
    {
     "name": "stdout",
     "output_type": "stream",
     "text": [
      "project folder = c:\\Users\\CHEEZYJEEZY\\Desktop\\MRIdata_preprocessing\n"
     ]
    }
   ],
   "source": [
    "BASE_DIR = os.path.dirname(os.path.abspath(\"__file__\"))\n",
    "print(f'project folder = {BASE_DIR}')"
   ]
  },
  {
   "cell_type": "code",
   "execution_count": 4,
   "id": "956c3c0a",
   "metadata": {},
   "outputs": [],
   "source": [
    "raw_examples = [\n",
    "    'fsl-open-dev_sub-001_T1w.nii.gz',\n",
    "    'wash-120_sub-001_T1w.nii.gz',\n",
    "    'kf-panda_sub-01_ses-3T_T1w.nii.gz',\n",
    "    'listen-task_sub-UTS01_ses-1_T1w.nii.gz'\n",
    "]"
   ]
  },
  {
   "cell_type": "code",
   "execution_count": 5,
   "id": "0577a9f2",
   "metadata": {},
   "outputs": [],
   "source": [
    "raw_img_path = os.path.join(BASE_DIR,'assets', 'raw_examples', raw_examples[0])"
   ]
  },
  {
   "cell_type": "code",
   "execution_count": 6,
   "id": "3d127307",
   "metadata": {},
   "outputs": [
    {
     "name": "stdout",
     "output_type": "stream",
     "text": [
      "(192, 192, 160)\n"
     ]
    },
    {
     "data": {
      "application/vnd.jupyter.widget-view+json": {
       "model_id": "6fa08f90620e46aaa1af292e4c6f4336",
       "version_major": 2,
       "version_minor": 0
      },
      "text/plain": [
       "interactive(children=(IntSlider(value=95, description='SLICE', max=191), Output()), _dom_classes=('widget-inte…"
      ]
     },
     "metadata": {},
     "output_type": "display_data"
    }
   ],
   "source": [
    "raw_img_sitk = sitk.ReadImage(raw_img_path, sitk.sitkFloat32)\n",
    "raw_img_sitk = sitk.DICOMOrient(raw_img_sitk, 'RPS')\n",
    "raw_img_sitk_arr = sitk.GetArrayFromImage(raw_img_sitk)\n",
    "print(raw_img_sitk_arr.shape)\n",
    "explore_3D_array(arr = raw_img_sitk_arr,\n",
    "                 cmap = 'nipy_spectral')"
   ]
  },
  {
   "cell_type": "markdown",
   "id": "6dc584ce",
   "metadata": {},
   "source": [
    "Create head mask using threshold"
   ]
  },
  {
   "cell_type": "code",
   "execution_count": 7,
   "id": "7788c99f",
   "metadata": {},
   "outputs": [
    {
     "data": {
      "application/vnd.jupyter.widget-view+json": {
       "model_id": "736168c11c3146f2837828e9c2c9e836",
       "version_major": 2,
       "version_minor": 0
      },
      "text/plain": [
       "interactive(children=(IntSlider(value=95, description='SLICE', max=191), Output()), _dom_classes=('widget-inte…"
      ]
     },
     "metadata": {},
     "output_type": "display_data"
    }
   ],
   "source": [
    "transformed = sitk.RescaleIntensity(raw_img_sitk, 0, 255)\n",
    "\n",
    "transformed = sitk.LiThreshold(transformed, 0,1)\n",
    "\n",
    "head_mask = transformed\n",
    "\n",
    "explore_3D_array_comparison(\n",
    "    arr_before = sitk.GetArrayFromImage(raw_img_sitk),\n",
    "    arr_after = sitk.GetArrayFromImage(head_mask),\n",
    ")"
   ]
  },
  {
   "cell_type": "markdown",
   "id": "eb487dc6",
   "metadata": {},
   "source": [
    "Bias Correction"
   ]
  },
  {
   "cell_type": "code",
   "execution_count": 8,
   "id": "1d9c0652",
   "metadata": {},
   "outputs": [],
   "source": [
    "shrinkFactor = 4\n",
    "inputImage = raw_img_sitk\n",
    "\n",
    "inputImage = sitk.Shrink( raw_img_sitk, [ shrinkFactor ] * inputImage.GetDimension())\n",
    "maskImage = sitk.Shrink( head_mask, [shrinkFactor]* inputImage.GetDimension())\n",
    "\n",
    "bias_corrector = sitk.N4BiasFieldCorrectionImageFilter()\n",
    "\n",
    "corrected = bias_corrector.Execute(inputImage, maskImage)"
   ]
  },
  {
   "cell_type": "code",
   "execution_count": 9,
   "id": "ec65766f",
   "metadata": {},
   "outputs": [
    {
     "data": {
      "application/vnd.jupyter.widget-view+json": {
       "model_id": "21a1ba0eff9e4bac8197e3658015eddc",
       "version_major": 2,
       "version_minor": 0
      },
      "text/plain": [
       "interactive(children=(IntSlider(value=95, description='SLICE', max=191), Output()), _dom_classes=('widget-inte…"
      ]
     },
     "metadata": {},
     "output_type": "display_data"
    }
   ],
   "source": [
    "log_bias_field = bias_corrector.GetLogBiasFieldAsImage(raw_img_sitk)\n",
    "corrected_image_full_resolution = raw_img_sitk / sitk.Exp(log_bias_field)\n",
    "\n",
    "explore_3D_array_comparison(\n",
    "    sitk.GetArrayFromImage(raw_img_sitk),\n",
    "    sitk.GetArrayFromImage(corrected_image_full_resolution),\n",
    "    cmap = 'viridis',\n",
    ")"
   ]
  },
  {
   "cell_type": "markdown",
   "id": "e439ecc4",
   "metadata": {},
   "source": [
    "Inspect the bias field"
   ]
  },
  {
   "cell_type": "code",
   "execution_count": 10,
   "id": "ec6348bf",
   "metadata": {},
   "outputs": [
    {
     "data": {
      "application/vnd.jupyter.widget-view+json": {
       "model_id": "87cfc4ed1478462ea208c61b95c777d5",
       "version_major": 2,
       "version_minor": 0
      },
      "text/plain": [
       "interactive(children=(IntSlider(value=95, description='SLICE', max=191), Output()), _dom_classes=('widget-inte…"
      ]
     },
     "metadata": {},
     "output_type": "display_data"
    }
   ],
   "source": [
    "temp = sitk.Exp(log_bias_field)\n",
    "temp = sitk.Mask(temp, head_mask)\n",
    "explore_3D_array(sitk.GetArrayFromImage(temp))"
   ]
  },
  {
   "cell_type": "markdown",
   "id": "7ba5e60b",
   "metadata": {},
   "source": [
    "Save the Image"
   ]
  },
  {
   "cell_type": "code",
   "execution_count": 13,
   "id": "716e1b9f",
   "metadata": {},
   "outputs": [],
   "source": [
    "raw_example = raw_examples[0]"
   ]
  },
  {
   "cell_type": "code",
   "execution_count": 15,
   "id": "81e67414",
   "metadata": {},
   "outputs": [
    {
     "name": "stdout",
     "output_type": "stream",
     "text": [
      "\\assets\\raw_examples\\fsl-open-dev_sub-001_T1w.nii.gz\n",
      "\\assets\\preprocessed\\fsl-open-dev_sub-001_T1w\\fsl-open-dev_sub-001_T1w_biasFieldCorrected.nii.gz\n"
     ]
    }
   ],
   "source": [
    "out_folder = os.path.join(BASE_DIR, 'assets', 'preprocessed')\n",
    "out_folder = os.path.join(out_folder, raw_example.split('.')[0])\n",
    "os.makedirs(out_folder, exist_ok = True)\n",
    "\n",
    "out_filename = add_suffix_to_filename(raw_example, suffix = 'biasFieldCorrected')\n",
    "out_path = os.path.join(out_folder, out_filename)\n",
    "\n",
    "print(raw_img_path[len(BASE_DIR):])\n",
    "print(out_path[len(BASE_DIR):])"
   ]
  },
  {
   "cell_type": "code",
   "execution_count": null,
   "id": "327cb0da",
   "metadata": {},
   "outputs": [],
   "source": []
  }
 ],
 "metadata": {
  "kernelspec": {
   "display_name": ".venv",
   "language": "python",
   "name": "python3"
  },
  "language_info": {
   "codemirror_mode": {
    "name": "ipython",
    "version": 3
   },
   "file_extension": ".py",
   "mimetype": "text/x-python",
   "name": "python",
   "nbconvert_exporter": "python",
   "pygments_lexer": "ipython3",
   "version": "3.12.8"
  }
 },
 "nbformat": 4,
 "nbformat_minor": 5
}
