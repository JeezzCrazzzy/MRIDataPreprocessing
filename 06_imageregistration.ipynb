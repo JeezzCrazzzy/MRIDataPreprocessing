{
 "cells": [
  {
   "cell_type": "markdown",
   "id": "23792c90",
   "metadata": {},
   "source": [
    "Registration\n",
    "\n",
    "Image registration is a method used to align multiple images to ensure the spatial correspondance of anatomy across different images"
   ]
  },
  {
   "cell_type": "code",
   "execution_count": 1,
   "id": "8abdb90a",
   "metadata": {},
   "outputs": [
    {
     "name": "stdout",
     "output_type": "stream",
     "text": [
      "AntsPy version = 0.5.4\n",
      "SimpleITK version = 2.5.0\n"
     ]
    }
   ],
   "source": [
    "%matplotlib inline\n",
    "import os\n",
    "from helpers import *\n",
    "\n",
    "import ants\n",
    "import SimpleITK as sitk\n",
    "\n",
    "print(f'AntsPy version = {ants.__version__}')\n",
    "print(f'SimpleITK version = {sitk.__version__}')"
   ]
  },
  {
   "cell_type": "code",
   "execution_count": 2,
   "id": "00ad8a1f",
   "metadata": {},
   "outputs": [
    {
     "name": "stdout",
     "output_type": "stream",
     "text": [
      "project folder = c:\\Users\\CHEEZYJEEZY\\Desktop\\MRIdata_preprocessing\n"
     ]
    }
   ],
   "source": [
    "BASE_DIR = os.path.dirname(os.path.abspath(\"__file__\"))\n",
    "print(f'project folder = {BASE_DIR}')"
   ]
  },
  {
   "cell_type": "code",
   "execution_count": 5,
   "id": "f744a9f2",
   "metadata": {},
   "outputs": [],
   "source": [
    "raw_examples = [\n",
    "    'fsl-open-dev_sub-001_T1w.nii.gz',\n",
    "    'wash-120_sub-001_T1w.nii.gz',\n",
    "    'kf-panda_sub-01_ses-3T_T1w.nii.gz',\n",
    "    'listen-task_sub-UTS01_ses-1_T1w.nii.gz'\n",
    "]"
   ]
  },
  {
   "cell_type": "code",
   "execution_count": null,
   "id": "4969be23",
   "metadata": {},
   "outputs": [
    {
     "name": "stdout",
     "output_type": "stream",
     "text": [
      "shape = (192, 192, 160) -> (Z,Y,X)\n"
     ]
    },
    {
     "data": {
      "application/vnd.jupyter.widget-view+json": {
       "model_id": "076410a13f064dec88764717e3c80f05",
       "version_major": 2,
       "version_minor": 0
      },
      "text/plain": [
       "interactive(children=(IntSlider(value=95, description='SLICE', max=191), Output()), _dom_classes=('widget-inte…"
      ]
     },
     "metadata": {},
     "output_type": "display_data"
    }
   ],
   "source": [
    "raw_img_path = os.path.join(BASE_DIR, 'assets', 'raw_examples', raw_examples[0])\n",
    "raw_img_ants = ants.image_read(raw_img_path, reorient = 'IAL')\n",
    "\n",
    "print(f'shape = {raw_img_ants.numpy().shape} -> (Z,Y,X)')\n",
    "\n",
    "explore_3D_array(\n",
    "    arr = raw_img_ants.numpy(),\n",
    "    cmap = 'viridis'\n",
    ")"
   ]
  },
  {
   "cell_type": "code",
   "execution_count": 3,
   "id": "66c53418",
   "metadata": {},
   "outputs": [
    {
     "data": {
      "application/vnd.jupyter.widget-view+json": {
       "model_id": "c176eea4c1494b2aada1819bbae85592",
       "version_major": 2,
       "version_minor": 0
      },
      "text/plain": [
       "interactive(children=(IntSlider(value=94, description='SLICE', max=188), Output()), _dom_classes=('widget-inte…"
      ]
     },
     "metadata": {},
     "output_type": "display_data"
    }
   ],
   "source": [
    "template_img_path = os.path.join(BASE_DIR, 'assets', 'templates', 'mni_icbm152_t1_tal_nlin_sym_09a.nii' )\n",
    "template_img_ants = ants.image_read(template_img_path, reorient = 'IAL')\n",
    "\n",
    "explore_3D_array(arr = template_img_ants.numpy())"
   ]
  },
  {
   "cell_type": "code",
   "execution_count": 7,
   "id": "af87c7b6",
   "metadata": {},
   "outputs": [
    {
     "name": "stdout",
     "output_type": "stream",
     "text": [
      "ANTsImage (IAL)\n",
      "\t Pixel Type : float (float32)\n",
      "\t Components : 1\n",
      "\t Dimensions : (192, 192, 160)\n",
      "\t Spacing    : (1.25, 1.25, 1.2)\n",
      "\t Origin     : (98.1114, -149.1525, -129.5975)\n",
      "\t Direction  : [ 0.  0. -1.  0.  1.  0.  1.  0.  0.]\n",
      "\n",
      "\n",
      "\n",
      "\n",
      "ANTsImage (IAL)\n",
      "\t Pixel Type : float (float32)\n",
      "\t Components : 1\n",
      "\t Dimensions : (189, 233, 197)\n",
      "\t Spacing    : (1.0, 1.0, 1.0)\n",
      "\t Origin     : (98.0, -98.0, -72.0)\n",
      "\t Direction  : [ 0.  0. -1.  0.  1.  0.  1.  0.  0.]\n",
      "\n"
     ]
    }
   ],
   "source": [
    "print(raw_img_ants)\n",
    "\n",
    "print('\\n\\n')\n",
    "\n",
    "print(template_img_ants)"
   ]
  },
  {
   "cell_type": "markdown",
   "id": "9d55bc1f",
   "metadata": {},
   "source": [
    "Registration"
   ]
  },
  {
   "cell_type": "code",
   "execution_count": 8,
   "id": "4e53fafc",
   "metadata": {},
   "outputs": [
    {
     "name": "stdout",
     "output_type": "stream",
     "text": [
      "antsRegistration -d 3 -r [000001B188415528,000001B1884151C8,1] -m mattes[000001B188415528,000001B1884151C8,1,32,regular,0.2] -t Affine[0.25] -c 2100x1200x1200x0 -s 3x2x1x0 -f 4x2x2x1 -x [NA,NA] -m mattes[000001B188415528,000001B1884151C8,1,32] -t SyN[0.200000,3.000000,0.000000] -c [40x20x0,1e-7,8] -s 2x1x0 -f 4x2x1 -u 1 -z 1 -o [C:\\Users\\CHEEZY~1\\AppData\\Local\\Temp\\tmpstuvhs4j,000001B1884145C8,000001B188415488] -x [NA,NA] --float 1 --write-composite-transform 0 -v 1\n"
     ]
    }
   ],
   "source": [
    "transformation = ants.registration(\n",
    "    fixed = template_img_ants,\n",
    "    moving = raw_img_ants,\n",
    "    type_of_transform = 'SyN',\n",
    "    verbose = True\n",
    "\n",
    ")"
   ]
  },
  {
   "cell_type": "code",
   "execution_count": null,
   "id": "16039473",
   "metadata": {},
   "outputs": [
    {
     "data": {
      "application/vnd.jupyter.widget-view+json": {
       "model_id": "6574b5a1971946a1bafeefa58ed1c04f",
       "version_major": 2,
       "version_minor": 0
      },
      "text/plain": [
       "interactive(children=(IntSlider(value=95, description='SLICE', max=191), Output()), _dom_classes=('widget-inte…"
      ]
     },
     "metadata": {},
     "output_type": "display_data"
    },
    {
     "data": {
      "application/vnd.jupyter.widget-view+json": {
       "model_id": "2a91bf1218644ac180b4b445aa9834c6",
       "version_major": 2,
       "version_minor": 0
      },
      "text/plain": [
       "interactive(children=(IntSlider(value=94, description='SLICE', max=188), Output()), _dom_classes=('widget-inte…"
      ]
     },
     "metadata": {},
     "output_type": "display_data"
    }
   ],
   "source": [
    "registered_img_ants = transformation['warpedmovout']\n",
    "\n",
    "explore_3D_array(raw_img_ants.numpy())\n",
    "explore_3D_array(registered_img_ants.numpy())"
   ]
  },
  {
   "cell_type": "code",
   "execution_count": null,
   "id": "9df3eecf",
   "metadata": {},
   "outputs": [],
   "source": []
  },
  {
   "cell_type": "code",
   "execution_count": null,
   "id": "81f54915",
   "metadata": {},
   "outputs": [],
   "source": []
  }
 ],
 "metadata": {
  "kernelspec": {
   "display_name": ".venv",
   "language": "python",
   "name": "python3"
  },
  "language_info": {
   "codemirror_mode": {
    "name": "ipython",
    "version": 3
   },
   "file_extension": ".py",
   "mimetype": "text/x-python",
   "name": "python",
   "nbconvert_exporter": "python",
   "pygments_lexer": "ipython3",
   "version": "3.12.8"
  }
 },
 "nbformat": 4,
 "nbformat_minor": 5
}
