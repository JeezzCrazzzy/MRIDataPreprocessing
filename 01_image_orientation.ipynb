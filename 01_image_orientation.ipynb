{
 "cells": [
  {
   "cell_type": "markdown",
   "id": "85b3744d",
   "metadata": {},
   "source": [
    "AntsPY"
   ]
  },
  {
   "cell_type": "code",
   "execution_count": 1,
   "id": "92b04836",
   "metadata": {},
   "outputs": [
    {
     "name": "stdout",
     "output_type": "stream",
     "text": [
      "AntsPy version = 0.5.4\n",
      "SimpleITK version = 2.5.0\n"
     ]
    }
   ],
   "source": [
    "%matplotlib inline\n",
    "import os\n",
    "from helpers import *\n",
    "\n",
    "import ants\n",
    "import SimpleITK as sitk\n",
    "\n",
    "print(f'AntsPy version = {ants.__version__}')\n",
    "print(f'SimpleITK version = {sitk.__version__}')"
   ]
  },
  {
   "cell_type": "code",
   "execution_count": 2,
   "id": "0710bd8f",
   "metadata": {},
   "outputs": [
    {
     "name": "stdout",
     "output_type": "stream",
     "text": [
      "project folder = c:\\Users\\CHEEZYJEEZY\\Desktop\\MRIdata_preprocessing\n"
     ]
    }
   ],
   "source": [
    "BASE_DIR = os.path.dirname(os.path.abspath(\"__file__\"))\n",
    "print(f'project folder = {BASE_DIR}')"
   ]
  },
  {
   "cell_type": "code",
   "execution_count": 5,
   "id": "c61fecd0",
   "metadata": {},
   "outputs": [],
   "source": [
    "raw_examples = [\n",
    "    'fsl-open-dev_sub-001_T1w.nii.gz',\n",
    "    'wash-120_sub-001_T1w.nii.gz',\n",
    "    'kf-panda_sub-01_ses-3T_T1w.nii.gz',\n",
    "    'listen-task_sub-UTS01_ses-1_T1w.nii.gz'\n",
    "]"
   ]
  },
  {
   "cell_type": "code",
   "execution_count": 6,
   "id": "7fdb45e6",
   "metadata": {},
   "outputs": [],
   "source": [
    "raw_img_path = os.path.join(BASE_DIR, 'assets', 'raw_examples', raw_examples[0])"
   ]
  },
  {
   "cell_type": "code",
   "execution_count": 8,
   "id": "656dae54",
   "metadata": {},
   "outputs": [
    {
     "name": "stdout",
     "output_type": "stream",
     "text": [
      "ANTsImage (LPI)\n",
      "\t Pixel Type : float (float32)\n",
      "\t Components : 1\n",
      "\t Dimensions : (160, 192, 192)\n",
      "\t Spacing    : (1.2, 1.25, 1.25)\n",
      "\t Origin     : (98.1114, 89.5975, -129.5975)\n",
      "\t Direction  : [-1.  0.  0.  0. -1.  0.  0.  0.  1.]\n",
      "\n"
     ]
    }
   ],
   "source": [
    "raw_img_ants = ants.image_read(raw_img_path)\n",
    "print(raw_img_ants)"
   ]
  },
  {
   "cell_type": "code",
   "execution_count": 10,
   "id": "8659cd55",
   "metadata": {},
   "outputs": [
    {
     "name": "stdout",
     "output_type": "stream",
     "text": [
      "LPI\n"
     ]
    }
   ],
   "source": [
    "print(raw_img_ants.get_orientation())"
   ]
  },
  {
   "cell_type": "code",
   "execution_count": 11,
   "id": "3a9faf4b",
   "metadata": {},
   "outputs": [
    {
     "name": "stdout",
     "output_type": "stream",
     "text": [
      "LPI\n",
      "(160, 192, 192) -> (Z,Y,X)\n"
     ]
    }
   ],
   "source": [
    "arr = raw_img_ants.numpy()\n",
    "print(raw_img_ants.get_orientation())\n",
    "print(arr.shape, '-> (Z,Y,X)')"
   ]
  },
  {
   "cell_type": "code",
   "execution_count": null,
   "id": "b6df710b",
   "metadata": {},
   "outputs": [
    {
     "data": {
      "application/vnd.jupyter.widget-view+json": {
       "model_id": "ebd012276f8543459e11ec8c1f9531f3",
       "version_major": 2,
       "version_minor": 0
      },
      "text/plain": [
       "interactive(children=(IntSlider(value=79, description='SLICE', max=159), Output()), _dom_classes=('widget-inte…"
      ]
     },
     "metadata": {},
     "output_type": "display_data"
    }
   ],
   "source": [
    "explore_3D_array(arr = raw_img_ants.numpy())"
   ]
  },
  {
   "cell_type": "code",
   "execution_count": null,
   "id": "aaaf9926",
   "metadata": {},
   "outputs": [
    {
     "name": "stdout",
     "output_type": "stream",
     "text": [
      "IAL\n",
      "(160, 192, 192) -> (Z,Y,X)\n"
     ]
    },
    {
     "data": {
      "application/vnd.jupyter.widget-view+json": {
       "model_id": "0e051ba6ab2642a8b331c5d3233cfb5b",
       "version_major": 2,
       "version_minor": 0
      },
      "text/plain": [
       "interactive(children=(IntSlider(value=95, description='SLICE', max=191), Output()), _dom_classes=('widget-inte…"
      ]
     },
     "metadata": {},
     "output_type": "display_data"
    }
   ],
   "source": [
    "raw_img_ants = ants.image_read(raw_img_path, reorient = 'IAL')\n",
    "print(raw_img_ants.get_orientation())\n",
    "print(arr.shape,'-> (Z,Y,X)')\n",
    "explore_3D_array(arr = raw_img_ants.numpy())"
   ]
  },
  {
   "cell_type": "markdown",
   "id": "c11a149c",
   "metadata": {},
   "source": [
    "Simple ITK "
   ]
  },
  {
   "cell_type": "code",
   "execution_count": 17,
   "id": "d939fbea",
   "metadata": {},
   "outputs": [],
   "source": [
    "raw_img_path = os.path.join(BASE_DIR,'assets', 'raw_examples', raw_examples[0])"
   ]
  },
  {
   "cell_type": "code",
   "execution_count": 1,
   "id": "94101bf3",
   "metadata": {},
   "outputs": [
    {
     "ename": "NameError",
     "evalue": "name 'sitk' is not defined",
     "output_type": "error",
     "traceback": [
      "\u001b[31m---------------------------------------------------------------------------\u001b[39m",
      "\u001b[31mNameError\u001b[39m                                 Traceback (most recent call last)",
      "\u001b[36mCell\u001b[39m\u001b[36m \u001b[39m\u001b[32mIn[1]\u001b[39m\u001b[32m, line 1\u001b[39m\n\u001b[32m----> \u001b[39m\u001b[32m1\u001b[39m raw_img_sitk = \u001b[43msitk\u001b[49m.ReadImage(raw_img_path, sitk.sitkFloat32)\n\u001b[32m      2\u001b[39m raw_img_sitk = sitk.DICOMOrient(raw_img_sitk, \u001b[33m'\u001b[39m\u001b[33mRPS\u001b[39m\u001b[33m'\u001b[39m)\n\u001b[32m      3\u001b[39m raw_img_sitk_arr = sitk.GetArrayFromImage(raw_img_sitk)\n",
      "\u001b[31mNameError\u001b[39m: name 'sitk' is not defined"
     ]
    }
   ],
   "source": [
    "raw_img_sitk = sitk.ReadImage(raw_img_path, sitk.sitkFloat32)\n",
    "raw_img_sitk = sitk.DICOMOrient(raw_img_sitk, 'RPS')\n",
    "raw_img_sitk_arr = sitk.GetArrayFromImage(raw_img_sitk)\n",
    "print(raw_img_sitk_arr.shape)\n",
    "explore_3D_array(arr = raw_img_sitk_arr)"
   ]
  },
  {
   "cell_type": "code",
   "execution_count": null,
   "id": "c1f54167",
   "metadata": {},
   "outputs": [],
   "source": []
  }
 ],
 "metadata": {
  "kernelspec": {
   "display_name": ".venv",
   "language": "python",
   "name": "python3"
  },
  "language_info": {
   "codemirror_mode": {
    "name": "ipython",
    "version": 3
   },
   "file_extension": ".py",
   "mimetype": "text/x-python",
   "name": "python",
   "nbconvert_exporter": "python",
   "pygments_lexer": "ipython3",
   "version": "3.12.8"
  }
 },
 "nbformat": 4,
 "nbformat_minor": 5
}
