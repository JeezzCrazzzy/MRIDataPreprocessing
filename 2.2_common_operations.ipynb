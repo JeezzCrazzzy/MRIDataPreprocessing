{
 "cells": [
  {
   "cell_type": "markdown",
   "id": "96ee7ab7",
   "metadata": {},
   "source": [
    "Crop\n",
    "\n",
    "Cropping takes the orientation of the pixels for the reference of lower & upper boundaries vectors"
   ]
  },
  {
   "cell_type": "code",
   "execution_count": 1,
   "id": "3fb04757",
   "metadata": {},
   "outputs": [
    {
     "name": "stdout",
     "output_type": "stream",
     "text": [
      "AntsPy version = 0.5.4\n",
      "SimpleITK version = 2.5.0\n"
     ]
    }
   ],
   "source": [
    "%matplotlib inline\n",
    "import os\n",
    "from helpers import *\n",
    "\n",
    "import ants\n",
    "import SimpleITK as sitk\n",
    "\n",
    "print(f'AntsPy version = {ants.__version__}')\n",
    "print(f'SimpleITK version = {sitk.__version__}')"
   ]
  },
  {
   "cell_type": "code",
   "execution_count": 2,
   "id": "51a50738",
   "metadata": {},
   "outputs": [
    {
     "name": "stdout",
     "output_type": "stream",
     "text": [
      "project folder = c:\\Users\\CHEEZYJEEZY\\Desktop\\MRIdata_preprocessing\n"
     ]
    }
   ],
   "source": [
    "BASE_DIR = os.path.dirname(os.path.abspath(\"__file__\"))\n",
    "print(f'project folder = {BASE_DIR}')"
   ]
  },
  {
   "cell_type": "code",
   "execution_count": 3,
   "id": "66f1f3a8",
   "metadata": {},
   "outputs": [],
   "source": [
    "raw_examples = [\n",
    "    'fsl-open-dev_sub-001_T1w.nii.gz',\n",
    "    'wash-120_sub-001_T1w.nii.gz',\n",
    "    'kf-panda_sub-01_ses-3T_T1w.nii.gz',\n",
    "    'listen-task_sub-UTS01_ses-1_T1w.nii.gz'\n",
    "]"
   ]
  },
  {
   "cell_type": "code",
   "execution_count": 7,
   "id": "cf35c784",
   "metadata": {},
   "outputs": [],
   "source": [
    "raw_img_path = os.path.join(BASE_DIR,'assets', 'raw_examples', raw_examples[0])"
   ]
  },
  {
   "cell_type": "code",
   "execution_count": 8,
   "id": "932bf309",
   "metadata": {},
   "outputs": [
    {
     "name": "stdout",
     "output_type": "stream",
     "text": [
      "(192, 192, 160)\n"
     ]
    },
    {
     "data": {
      "application/vnd.jupyter.widget-view+json": {
       "model_id": "498760a545394e329f955b15be04bb25",
       "version_major": 2,
       "version_minor": 0
      },
      "text/plain": [
       "interactive(children=(IntSlider(value=95, description='SLICE', max=191), Output()), _dom_classes=('widget-inte…"
      ]
     },
     "metadata": {},
     "output_type": "display_data"
    }
   ],
   "source": [
    "raw_img_sitk = sitk.ReadImage(raw_img_path, sitk.sitkFloat32)\n",
    "raw_img_sitk = sitk.DICOMOrient(raw_img_sitk, 'RPS')\n",
    "raw_img_sitk_arr = sitk.GetArrayFromImage(raw_img_sitk)\n",
    "print(raw_img_sitk_arr.shape)\n",
    "explore_3D_array(arr = raw_img_sitk_arr)"
   ]
  },
  {
   "cell_type": "code",
   "execution_count": null,
   "id": "08f74e5e",
   "metadata": {},
   "outputs": [
    {
     "data": {
      "application/vnd.jupyter.widget-view+json": {
       "model_id": "49e5a929fb7e49138f0f551261633424",
       "version_major": 2,
       "version_minor": 0
      },
      "text/plain": [
       "interactive(children=(IntSlider(value=70, description='SLICE', max=141), Output()), _dom_classes=('widget-inte…"
      ]
     },
     "metadata": {},
     "output_type": "display_data"
    }
   ],
   "source": [
    "transformed = sitk.Crop(raw_img_sitk, (20,20,50), (20,10,0))\n",
    "\n",
    "explore_3D_array(arr = sitk.GetArrayFromImage(transformed),\n",
    "                 cmap = 'viridis')"
   ]
  },
  {
   "cell_type": "markdown",
   "id": "6a7ac2a5",
   "metadata": {},
   "source": [
    "Padding\n",
    "\n",
    "\n",
    "Padding (as Cropping) takes the orientation of the pixels for the reference of lower & upper boundaries vectors\n"
   ]
  },
  {
   "cell_type": "code",
   "execution_count": 18,
   "id": "2d9cfa83",
   "metadata": {},
   "outputs": [
    {
     "data": {
      "text/plain": [
       "941"
      ]
     },
     "execution_count": 18,
     "metadata": {},
     "output_type": "execute_result"
    }
   ],
   "source": [
    "constant = int(sitk.GetArrayFromImage(raw_img_sitk).max())\n",
    "constant"
   ]
  },
  {
   "cell_type": "code",
   "execution_count": 24,
   "id": "f746e471",
   "metadata": {},
   "outputs": [
    {
     "data": {
      "application/vnd.jupyter.widget-view+json": {
       "model_id": "9edb5600bff34e92a0f97e81d9371ff2",
       "version_major": 2,
       "version_minor": 0
      },
      "text/plain": [
       "interactive(children=(IntSlider(value=100, description='SLICE', max=201), Output()), _dom_classes=('widget-int…"
      ]
     },
     "metadata": {},
     "output_type": "display_data"
    }
   ],
   "source": [
    "transformed = sitk.ConstantPad(raw_img_sitk, (10,0,10), (0,0,0), constant)\n",
    "\n",
    "explore_3D_array(arr = sitk.GetArrayFromImage(transformed))"
   ]
  },
  {
   "cell_type": "markdown",
   "id": "0592cce0",
   "metadata": {},
   "source": [
    "Denoise pt2"
   ]
  },
  {
   "cell_type": "markdown",
   "id": "4f1be1ee",
   "metadata": {},
   "source": [
    "Curvature flow filter"
   ]
  },
  {
   "cell_type": "code",
   "execution_count": null,
   "id": "31c3a064",
   "metadata": {},
   "outputs": [
    {
     "data": {
      "application/vnd.jupyter.widget-view+json": {
       "model_id": "b973ca3ec7ba4fb5856440152c8bd9ec",
       "version_major": 2,
       "version_minor": 0
      },
      "text/plain": [
       "interactive(children=(IntSlider(value=95, description='SLICE', max=191), Output()), _dom_classes=('widget-inte…"
      ]
     },
     "metadata": {},
     "output_type": "display_data"
    }
   ],
   "source": [
    "transformed = sitk.CurvatureFlow(raw_img_sitk)\n",
    "\n",
    "explore_3D_array_comparison(\n",
    "    arr_before = sitk.GetArrayFromImage(raw_img_sitk),\n",
    "    arr_after = sitk.GetArrayFromImage(transformed),\n",
    "    cmap = 'viridis'\n",
    ")"
   ]
  },
  {
   "cell_type": "code",
   "execution_count": 27,
   "id": "5f807b9c",
   "metadata": {},
   "outputs": [
    {
     "data": {
      "application/vnd.jupyter.widget-view+json": {
       "model_id": "d653546ebee84cb6ae4cfe5b4a7ce376",
       "version_major": 2,
       "version_minor": 0
      },
      "text/plain": [
       "interactive(children=(IntSlider(value=95, description='SLICE', max=191), Output()), _dom_classes=('widget-inte…"
      ]
     },
     "metadata": {},
     "output_type": "display_data"
    }
   ],
   "source": [
    "transformed = sitk.GrayscaleDilate(raw_img_sitk)\n",
    "\n",
    "explore_3D_array_comparison(\n",
    "    arr_before = sitk.GetArrayFromImage(raw_img_sitk),\n",
    "    arr_after = sitk.GetArrayFromImage(transformed),\n",
    "    cmap = 'viridis'\n",
    ")"
   ]
  },
  {
   "cell_type": "code",
   "execution_count": 28,
   "id": "72ec0819",
   "metadata": {},
   "outputs": [
    {
     "data": {
      "application/vnd.jupyter.widget-view+json": {
       "model_id": "6dac9dc23e924b72b8a99da9e0cbfea5",
       "version_major": 2,
       "version_minor": 0
      },
      "text/plain": [
       "interactive(children=(IntSlider(value=95, description='SLICE', max=191), Output()), _dom_classes=('widget-inte…"
      ]
     },
     "metadata": {},
     "output_type": "display_data"
    }
   ],
   "source": [
    "transformed = sitk.GrayscaleErode(raw_img_sitk)\n",
    "\n",
    "explore_3D_array_comparison(\n",
    "    arr_before = sitk.GetArrayFromImage(raw_img_sitk),\n",
    "    arr_after = sitk.GetArrayFromImage(transformed),\n",
    "    cmap = 'viridis'\n",
    ")"
   ]
  },
  {
   "cell_type": "markdown",
   "id": "4f28e97a",
   "metadata": {},
   "source": [
    "Blurring"
   ]
  },
  {
   "cell_type": "code",
   "execution_count": 29,
   "id": "d20867b7",
   "metadata": {},
   "outputs": [
    {
     "data": {
      "application/vnd.jupyter.widget-view+json": {
       "model_id": "24f596173ba14c1eb46d66f6a17e2ca1",
       "version_major": 2,
       "version_minor": 0
      },
      "text/plain": [
       "interactive(children=(IntSlider(value=95, description='SLICE', max=191), Output()), _dom_classes=('widget-inte…"
      ]
     },
     "metadata": {},
     "output_type": "display_data"
    }
   ],
   "source": [
    "transformed = sitk.DiscreteGaussian(raw_img_sitk)\n",
    "\n",
    "explore_3D_array_comparison(\n",
    "    arr_before = sitk.GetArrayFromImage(raw_img_sitk),\n",
    "    arr_after = sitk.GetArrayFromImage(transformed),\n",
    "    cmap = 'viridis'\n",
    ")"
   ]
  },
  {
   "cell_type": "markdown",
   "id": "bb1996a7",
   "metadata": {},
   "source": [
    "Thresholding"
   ]
  },
  {
   "cell_type": "code",
   "execution_count": 33,
   "id": "356695e1",
   "metadata": {},
   "outputs": [
    {
     "data": {
      "application/vnd.jupyter.widget-view+json": {
       "model_id": "5033dad068624fdc8f3feb1b22b1a202",
       "version_major": 2,
       "version_minor": 0
      },
      "text/plain": [
       "interactive(children=(IntSlider(value=95, description='SLICE', max=191), Output()), _dom_classes=('widget-inte…"
      ]
     },
     "metadata": {},
     "output_type": "display_data"
    }
   ],
   "source": [
    "transformed = sitk.LiThreshold(raw_img_sitk,1,0)\n",
    "\n",
    "explore_3D_array_comparison(\n",
    "    arr_before = sitk.GetArrayFromImage(raw_img_sitk),\n",
    "    arr_after = sitk.GetArrayFromImage(transformed)\n",
    ")"
   ]
  },
  {
   "cell_type": "markdown",
   "id": "55cd6ac4",
   "metadata": {},
   "source": [
    "Statistics"
   ]
  },
  {
   "cell_type": "code",
   "execution_count": 34,
   "id": "0cc25c46",
   "metadata": {},
   "outputs": [
    {
     "name": "stdout",
     "output_type": "stream",
     "text": [
      "\tRaw Image\n",
      "min =  0.0\n",
      "max =  941.0\n",
      "mean =  71.38583017985026\n"
     ]
    }
   ],
   "source": [
    "stats = sitk.StatisticsImageFilter()\n",
    "stats.Execute(raw_img_sitk)\n",
    "\n",
    "print('\\tRaw Image')\n",
    "print(\"min = \", stats.GetMinimum())\n",
    "print(\"max = \", stats.GetMaximum())\n",
    "print(\"mean = \", stats.GetMean())"
   ]
  },
  {
   "cell_type": "code",
   "execution_count": null,
   "id": "2cf67c1d",
   "metadata": {},
   "outputs": [],
   "source": []
  }
 ],
 "metadata": {
  "kernelspec": {
   "display_name": ".venv",
   "language": "python",
   "name": "python3"
  },
  "language_info": {
   "codemirror_mode": {
    "name": "ipython",
    "version": 3
   },
   "file_extension": ".py",
   "mimetype": "text/x-python",
   "name": "python",
   "nbconvert_exporter": "python",
   "pygments_lexer": "ipython3",
   "version": "3.12.8"
  }
 },
 "nbformat": 4,
 "nbformat_minor": 5
}
