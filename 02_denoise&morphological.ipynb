{
 "cells": [
  {
   "cell_type": "code",
   "execution_count": 2,
   "id": "d52450a4",
   "metadata": {},
   "outputs": [
    {
     "name": "stdout",
     "output_type": "stream",
     "text": [
      "Antspy version: 0.5.4\n",
      "SimpleITK version: 2.5.0\n"
     ]
    }
   ],
   "source": [
    "%matplotlib inline\n",
    "\n",
    "import os\n",
    "from helpers import *\n",
    "\n",
    "import ants\n",
    "import SimpleITK as sitk\n",
    "\n",
    "print(f'Antspy version: {ants.__version__}')\n",
    "print(f'SimpleITK version: {sitk.__version__}')"
   ]
  },
  {
   "cell_type": "code",
   "execution_count": 3,
   "id": "e477136d",
   "metadata": {},
   "outputs": [
    {
     "name": "stdout",
     "output_type": "stream",
     "text": [
      "project folder = c:\\Users\\CHEEZYJEEZY\\Desktop\\MRIdata_preprocessing\n"
     ]
    }
   ],
   "source": [
    "BASE_DIR = os.path.dirname(os.path.abspath(\"__file__\"))\n",
    "print(f'project folder = {BASE_DIR}')"
   ]
  },
  {
   "cell_type": "code",
   "execution_count": 4,
   "id": "22935b6b",
   "metadata": {},
   "outputs": [],
   "source": [
    "raw_examples = [\n",
    "    'fsl-open-dev_sub-001_T1w.nii.gz',\n",
    "    'wash-120_sub-001_T1w.nii.gz',\n",
    "    'kf-panda_sub-01_ses-3T_T1w.nii.gz',\n",
    "    'listen-task_sub-UTS01_ses-1_T1w.nii.gz'\n",
    "]"
   ]
  },
  {
   "cell_type": "markdown",
   "id": "57081d1c",
   "metadata": {},
   "source": [
    "AntsPy"
   ]
  },
  {
   "cell_type": "markdown",
   "id": "fd97acb5",
   "metadata": {},
   "source": [
    "Raw Image"
   ]
  },
  {
   "cell_type": "code",
   "execution_count": 7,
   "id": "2388d100",
   "metadata": {},
   "outputs": [
    {
     "name": "stdout",
     "output_type": "stream",
     "text": [
      "shape = (192, 192, 160) -> (Z,Y,X)\n"
     ]
    },
    {
     "data": {
      "application/vnd.jupyter.widget-view+json": {
       "model_id": "995306aa29e64c18bfee54d31ca5b2e1",
       "version_major": 2,
       "version_minor": 0
      },
      "text/plain": [
       "interactive(children=(IntSlider(value=95, description='SLICE', max=191), Output()), _dom_classes=('widget-inte…"
      ]
     },
     "metadata": {},
     "output_type": "display_data"
    }
   ],
   "source": [
    "raw_img_path = os.path.join(BASE_DIR, 'assets', 'raw_examples', raw_examples[0])\n",
    "raw_img_ants = ants.image_read(raw_img_path, reorient = 'IAL')\n",
    "\n",
    "print(f'shape = {raw_img_ants.numpy().shape} -> (Z,Y,X)')\n",
    "\n",
    "explore_3D_array(\n",
    "    arr = raw_img_ants.numpy(),\n",
    "    cmap = 'viridis'\n",
    ")"
   ]
  },
  {
   "cell_type": "markdown",
   "id": "a0bb6b73",
   "metadata": {},
   "source": [
    "Denoise"
   ]
  },
  {
   "cell_type": "code",
   "execution_count": 10,
   "id": "235b3f47",
   "metadata": {},
   "outputs": [
    {
     "data": {
      "application/vnd.jupyter.widget-view+json": {
       "model_id": "786955a5fc0f4c30a2b4bbff96a2b3ab",
       "version_major": 2,
       "version_minor": 0
      },
      "text/plain": [
       "interactive(children=(IntSlider(value=95, description='SLICE', max=191), Output()), _dom_classes=('widget-inte…"
      ]
     },
     "metadata": {},
     "output_type": "display_data"
    }
   ],
   "source": [
    "transformed = ants.denoise_image(raw_img_ants, shrink_factor = 5)\n",
    "\n",
    "explore_3D_array_comparison(\n",
    "    arr_before = raw_img_ants.numpy(),\n",
    "    arr_after = transformed.numpy(),\n",
    "    cmap = 'viridis'\n",
    ")"
   ]
  },
  {
   "cell_type": "markdown",
   "id": "8021547b",
   "metadata": {},
   "source": [
    "Morphological operations"
   ]
  },
  {
   "cell_type": "code",
   "execution_count": 12,
   "id": "562c82b9",
   "metadata": {},
   "outputs": [
    {
     "data": {
      "application/vnd.jupyter.widget-view+json": {
       "model_id": "55f98f2eff224946942746dbf5f3c50a",
       "version_major": 2,
       "version_minor": 0
      },
      "text/plain": [
       "interactive(children=(IntSlider(value=95, description='SLICE', max=191), Output()), _dom_classes=('widget-inte…"
      ]
     },
     "metadata": {},
     "output_type": "display_data"
    }
   ],
   "source": [
    "transformed = ants.morphology(raw_img_ants, radius =1, operation = 'erode', mtype = 'grayscale')\n",
    "\n",
    "explore_3D_array_comparison(\n",
    "    arr_before = raw_img_ants.numpy(),\n",
    "    arr_after = transformed.numpy(),\n",
    "    cmap = 'viridis'\n",
    ")"
   ]
  },
  {
   "cell_type": "markdown",
   "id": "5506eb85",
   "metadata": {},
   "source": [
    "SimpleITK"
   ]
  },
  {
   "cell_type": "markdown",
   "id": "3bf80a5c",
   "metadata": {},
   "source": [
    "Raw Image"
   ]
  },
  {
   "cell_type": "code",
   "execution_count": 14,
   "id": "3dd5839b",
   "metadata": {},
   "outputs": [
    {
     "name": "stdout",
     "output_type": "stream",
     "text": [
      "shape = (192, 192, 160) -> (Z,Y,X)\n"
     ]
    },
    {
     "data": {
      "application/vnd.jupyter.widget-view+json": {
       "model_id": "908c2e3983804427a26f078e64ae2524",
       "version_major": 2,
       "version_minor": 0
      },
      "text/plain": [
       "interactive(children=(IntSlider(value=95, description='SLICE', max=191), Output()), _dom_classes=('widget-inte…"
      ]
     },
     "metadata": {},
     "output_type": "display_data"
    }
   ],
   "source": [
    "raw_img_path = os.path.join(BASE_DIR, 'assets', 'raw_examples', raw_examples[0])\n",
    "raw_img_sitk = sitk.ReadImage(raw_img_path, sitk.sitkFloat32)\n",
    "raw_img_sitk = sitk.DICOMOrient(raw_img_sitk, 'RPS')\n",
    "\n",
    "print(f'shape = {sitk.GetArrayFromImage(raw_img_sitk).shape} -> (Z,Y,X)')\n",
    "explore_3D_array(\n",
    "    arr = sitk.GetArrayFromImage(raw_img_sitk),\n",
    "    cmap = 'viridis'\n",
    ")"
   ]
  },
  {
   "cell_type": "markdown",
   "id": "0dadb141",
   "metadata": {},
   "source": [
    "Shrink"
   ]
  },
  {
   "cell_type": "code",
   "execution_count": null,
   "id": "93364051",
   "metadata": {},
   "outputs": [],
   "source": [
    "shrinkFactor = 2\n",
    "transformed = sitk.Shrink(raw_img_sitk,[ shrinkFactor ] * raw_img_sitk.GetDimension())\n",
    "\n",
    "print(f'shape before = {sitk.GetArrayFromImage(raw_img_sitk).shape}')\n",
    "print(f'shape after = {sitk.GetArrayFromImage(transformed).shape}')\n",
    "\n",
    "explore_3D_array(\n",
    "    sitk.GetArrayFromImage(transformed)\n",
    "    cmap = 'viridis')"
   ]
  }
 ],
 "metadata": {
  "kernelspec": {
   "display_name": ".venv",
   "language": "python",
   "name": "python3"
  },
  "language_info": {
   "codemirror_mode": {
    "name": "ipython",
    "version": 3
   },
   "file_extension": ".py",
   "mimetype": "text/x-python",
   "name": "python",
   "nbconvert_exporter": "python",
   "pygments_lexer": "ipython3",
   "version": "3.12.8"
  }
 },
 "nbformat": 4,
 "nbformat_minor": 5
}
