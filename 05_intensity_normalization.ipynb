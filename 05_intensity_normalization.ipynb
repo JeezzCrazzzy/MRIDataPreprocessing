{
 "cells": [
  {
   "cell_type": "markdown",
   "id": "5cbb9b52",
   "metadata": {},
   "source": [
    "Intensity Normalization"
   ]
  },
  {
   "cell_type": "markdown",
   "id": "adf0aca6",
   "metadata": {},
   "source": [
    "How to apply intensity normalization by Histogram Matching."
   ]
  },
  {
   "cell_type": "code",
   "execution_count": 1,
   "id": "dde7a684",
   "metadata": {},
   "outputs": [
    {
     "name": "stdout",
     "output_type": "stream",
     "text": [
      "AntsPy version = 0.5.4\n",
      "SimpleITK version = 2.5.0\n"
     ]
    }
   ],
   "source": [
    "%matplotlib inline\n",
    "import os\n",
    "from helpers import *\n",
    "\n",
    "import ants\n",
    "import SimpleITK as sitk\n",
    "\n",
    "print(f'AntsPy version = {ants.__version__}')\n",
    "print(f'SimpleITK version = {sitk.__version__}')"
   ]
  },
  {
   "cell_type": "code",
   "execution_count": 2,
   "id": "bf2e127b",
   "metadata": {},
   "outputs": [
    {
     "name": "stdout",
     "output_type": "stream",
     "text": [
      "project folder = c:\\Users\\CHEEZYJEEZY\\Desktop\\MRIdata_preprocessing\n"
     ]
    }
   ],
   "source": [
    "BASE_DIR = os.path.dirname(os.path.abspath(\"__file__\"))\n",
    "print(f'project folder = {BASE_DIR}')"
   ]
  },
  {
   "cell_type": "code",
   "execution_count": 11,
   "id": "18c2fa8b",
   "metadata": {},
   "outputs": [
    {
     "data": {
      "application/vnd.jupyter.widget-view+json": {
       "model_id": "dffb1b153d55441fa2c93c3614b9df34",
       "version_major": 2,
       "version_minor": 0
      },
      "text/plain": [
       "interactive(children=(IntSlider(value=95, description='SLICE', max=191), Output()), _dom_classes=('widget-inte…"
      ]
     },
     "metadata": {},
     "output_type": "display_data"
    }
   ],
   "source": [
    "raw_img_path = os.path.join(BASE_DIR, 'assets', 'raw_examples', 'fsl-open-dev_sub-001_T1w.nii.gz')\n",
    "raw_img_sitk = sitk.ReadImage(raw_img_path, sitk.sitkFloat32)\n",
    "\n",
    "explore_3D_array(\n",
    "    arr = sitk.GetArrayFromImage(raw_img_sitk),\n",
    "    cmap = 'viridis'\n",
    ")"
   ]
  },
  {
   "cell_type": "code",
   "execution_count": 6,
   "id": "8645f818",
   "metadata": {},
   "outputs": [
    {
     "data": {
      "application/vnd.jupyter.widget-view+json": {
       "model_id": "4fd67ef9924140129c5294266e744aad",
       "version_major": 2,
       "version_minor": 0
      },
      "text/plain": [
       "interactive(children=(IntSlider(value=94, description='SLICE', max=188), Output()), _dom_classes=('widget-inte…"
      ]
     },
     "metadata": {},
     "output_type": "display_data"
    }
   ],
   "source": [
    "template_img_path = os.path.join(BASE_DIR, 'assets', 'templates', 'mni_icbm152_t1_tal_nlin_sym_09a.nii')\n",
    "template_img_sitk = sitk.ReadImage(template_img_path,sitk.sitkFloat32)\n",
    "\n",
    "template_img_sitk = sitk.DICOMOrient(template_img_sitk, 'RPS')\n",
    "explore_3D_array(\n",
    "    arr = sitk.GetArrayFromImage(template_img_sitk)\n",
    ")"
   ]
  },
  {
   "cell_type": "code",
   "execution_count": 12,
   "id": "fc1c49bd",
   "metadata": {},
   "outputs": [
    {
     "data": {
      "application/vnd.jupyter.widget-view+json": {
       "model_id": "723b7051914244b0a4f3a835d4b4b1dc",
       "version_major": 2,
       "version_minor": 0
      },
      "text/plain": [
       "interactive(children=(IntSlider(value=95, description='SLICE', max=191), Output()), _dom_classes=('widget-inte…"
      ]
     },
     "metadata": {},
     "output_type": "display_data"
    }
   ],
   "source": [
    "transformed = sitk.HistogramMatching(raw_img_sitk, template_img_sitk)\n",
    "\n",
    "explore_3D_array_comparison(\n",
    "    arr_before = sitk.GetArrayFromImage(raw_img_sitk),\n",
    "    arr_after = sitk.GetArrayFromImage(transformed),\n",
    "    cmap = 'grey'\n",
    ")\n"
   ]
  },
  {
   "cell_type": "code",
   "execution_count": null,
   "id": "18103e54",
   "metadata": {},
   "outputs": [],
   "source": []
  }
 ],
 "metadata": {
  "kernelspec": {
   "display_name": ".venv",
   "language": "python",
   "name": "python3"
  },
  "language_info": {
   "codemirror_mode": {
    "name": "ipython",
    "version": 3
   },
   "file_extension": ".py",
   "mimetype": "text/x-python",
   "name": "python",
   "nbconvert_exporter": "python",
   "pygments_lexer": "ipython3",
   "version": "3.12.8"
  }
 },
 "nbformat": 4,
 "nbformat_minor": 5
}
