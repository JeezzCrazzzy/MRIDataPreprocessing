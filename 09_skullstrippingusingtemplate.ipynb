{
 "cells": [
  {
   "cell_type": "markdown",
   "id": "f9c27093",
   "metadata": {},
   "source": []
  },
  {
   "cell_type": "code",
   "execution_count": 1,
   "id": "c53c6d1d",
   "metadata": {},
   "outputs": [
    {
     "name": "stdout",
     "output_type": "stream",
     "text": [
      "AntsPy version = 0.5.4\n",
      "SimpleITK version = 2.5.0\n"
     ]
    }
   ],
   "source": [
    "%matplotlib inline\n",
    "import os\n",
    "from helpers import *\n",
    "\n",
    "import ants\n",
    "import SimpleITK as sitk\n",
    "\n",
    "print(f'AntsPy version = {ants.__version__}')\n",
    "print(f'SimpleITK version = {sitk.__version__}')\n"
   ]
  },
  {
   "cell_type": "code",
   "execution_count": 2,
   "id": "3477bd37",
   "metadata": {},
   "outputs": [
    {
     "name": "stdout",
     "output_type": "stream",
     "text": [
      "project folder = c:\\Users\\CHEEZYJEEZY\\Desktop\\MRIdata_preprocessing\n"
     ]
    }
   ],
   "source": [
    "BASE_DIR = os.path.dirname(os.path.abspath(\"__file__\"))\n",
    "print(f'project folder = {BASE_DIR}')"
   ]
  },
  {
   "cell_type": "code",
   "execution_count": 3,
   "id": "ca1824c0",
   "metadata": {},
   "outputs": [],
   "source": [
    "raw_examples = [\n",
    "    'fsl-open-dev_sub-001_T1w.nii.gz',\n",
    "    'wash-120_sub-001_T1w.nii.gz',\n",
    "    'kf-panda_sub-01_ses-3T_T1w.nii.gz',\n",
    "    'listen-task_sub-UTS01_ses-1_T1w.nii.gz'\n",
    "]\n",
    "\n",
    "raw_example = raw_examples[3]"
   ]
  },
  {
   "cell_type": "code",
   "execution_count": 4,
   "id": "0bc335c8",
   "metadata": {},
   "outputs": [
    {
     "data": {
      "application/vnd.jupyter.widget-view+json": {
       "model_id": "8d7dee5c13824a53a2c7f9c699125b18",
       "version_major": 2,
       "version_minor": 0
      },
      "text/plain": [
       "interactive(children=(IntSlider(value=95, description='SLICE', max=191), Output()), _dom_classes=('widget-inte…"
      ]
     },
     "metadata": {},
     "output_type": "display_data"
    }
   ],
   "source": [
    "raw_img_path = os.path.join(BASE_DIR, 'assets', 'raw_examples', 'brain-lesion_T1w.nii.gz')\n",
    "raw_img_ants = ants.image_read(raw_img_path, reorient = 'IAL')\n",
    "\n",
    "explore_3D_array(raw_img_ants.numpy(), cmap = 'nipy_spectral')"
   ]
  },
  {
   "cell_type": "markdown",
   "id": "9cc04509",
   "metadata": {},
   "source": [
    "Template based method (Native Space)"
   ]
  },
  {
   "cell_type": "markdown",
   "id": "ddab1d59",
   "metadata": {},
   "source": [
    "Template image"
   ]
  },
  {
   "cell_type": "code",
   "execution_count": 5,
   "id": "328adf5a",
   "metadata": {},
   "outputs": [
    {
     "data": {
      "application/vnd.jupyter.widget-view+json": {
       "model_id": "f1e32c47723c4b898e81926b9da1df5c",
       "version_major": 2,
       "version_minor": 0
      },
      "text/plain": [
       "interactive(children=(IntSlider(value=94, description='SLICE', max=188), Output()), _dom_classes=('widget-inte…"
      ]
     },
     "metadata": {},
     "output_type": "display_data"
    }
   ],
   "source": [
    "template_img_path = os.path.join(BASE_DIR, 'assets', 'templates', 'mni_icbm152_t1_tal_nlin_sym_09a.nii' )\n",
    "template_img_ants = ants.image_read(template_img_path, reorient = 'IAL')\n",
    "\n",
    "explore_3D_array(template_img_ants.numpy())"
   ]
  },
  {
   "cell_type": "code",
   "execution_count": 6,
   "id": "c62516ee",
   "metadata": {},
   "outputs": [
    {
     "data": {
      "application/vnd.jupyter.widget-view+json": {
       "model_id": "7419c5519f3a4c42b0e96a41721985e6",
       "version_major": 2,
       "version_minor": 0
      },
      "text/plain": [
       "interactive(children=(IntSlider(value=95, description='SLICE', max=191), Output()), _dom_classes=('widget-inte…"
      ]
     },
     "metadata": {},
     "output_type": "display_data"
    }
   ],
   "source": [
    "mask_img_path = os.path.join(BASE_DIR, 'assets', 'raw_examples', 'brain-lesion_T1w_mask.nii.gz')\n",
    "mask_img_ants = ants.image_read(mask_img_path, reorient = 'IAL')\n",
    "\n",
    "explore_3D_array(mask_img_ants.numpy())"
   ]
  },
  {
   "cell_type": "code",
   "execution_count": 7,
   "id": "fc9f7e69",
   "metadata": {},
   "outputs": [
    {
     "data": {
      "text/plain": [
       "array([0.000000e+00, 3.773869e-03, 6.423873e-03, ..., 2.549955e+02,\n",
       "       2.549986e+02, 2.550000e+02], dtype=float32)"
      ]
     },
     "execution_count": 7,
     "metadata": {},
     "output_type": "execute_result"
    }
   ],
   "source": [
    "np.unique(mask_img_ants.numpy())"
   ]
  },
  {
   "cell_type": "markdown",
   "id": "e1f317d5",
   "metadata": {},
   "source": [
    "Register template to raw image"
   ]
  },
  {
   "cell_type": "code",
   "execution_count": 8,
   "id": "ad328117",
   "metadata": {},
   "outputs": [
    {
     "name": "stdout",
     "output_type": "stream",
     "text": [
      "antsRegistration -d 3 -r [00000242B91D1068,00000242B91D0A28,1] -m mattes[00000242B91D1068,00000242B91D0A28,1,32,regular,0.2] -t Affine[0.25] -c 2100x1200x1200x0 -s 3x2x1x0 -f 4x2x2x1 -x [NA,NA] -m mattes[00000242B91D1068,00000242B91D0A28,1,32] -t SyN[0.200000,3.000000,0.000000] -c [40x20x0,1e-7,8] -s 2x1x0 -f 4x2x1 -u 1 -z 1 -o [C:\\Users\\CHEEZY~1\\AppData\\Local\\Temp\\tmpamf8caz5,00000242B91D1088,00000242B91D1EE8] -x [NA,NA] --float 1 --write-composite-transform 0 -v 1\n"
     ]
    }
   ],
   "source": [
    "transformation = ants.registration(\n",
    "    fixed = raw_img_ants,\n",
    "    moving = template_img_ants,\n",
    "    type_of_transform = 'SyN',\n",
    "    verbose = True\n",
    ")"
   ]
  },
  {
   "cell_type": "code",
   "execution_count": 9,
   "id": "2dc9270d",
   "metadata": {},
   "outputs": [
    {
     "name": "stdout",
     "output_type": "stream",
     "text": [
      "{'warpedmovout': ANTsImage (IAL)\n",
      "\t Pixel Type : float (float32)\n",
      "\t Components : 1\n",
      "\t Dimensions : (192, 192, 160)\n",
      "\t Spacing    : (1.25, 1.25, 1.2)\n",
      "\t Origin     : (98.1114, -149.1525, -129.5975)\n",
      "\t Direction  : [ 0.  0. -1.  0.  1.  0.  1.  0.  0.]\n",
      ", 'warpedfixout': ANTsImage (IAL)\n",
      "\t Pixel Type : float (float32)\n",
      "\t Components : 1\n",
      "\t Dimensions : (189, 233, 197)\n",
      "\t Spacing    : (1.0, 1.0, 1.0)\n",
      "\t Origin     : (98.0, -98.0, -72.0)\n",
      "\t Direction  : [-0.  0. -1.  0.  1.  0.  1.  0.  0.]\n",
      ", 'fwdtransforms': ['C:\\\\Users\\\\CHEEZY~1\\\\AppData\\\\Local\\\\Temp\\\\tmpamf8caz51Warp.nii.gz', 'C:\\\\Users\\\\CHEEZY~1\\\\AppData\\\\Local\\\\Temp\\\\tmpamf8caz50GenericAffine.mat'], 'invtransforms': ['C:\\\\Users\\\\CHEEZY~1\\\\AppData\\\\Local\\\\Temp\\\\tmpamf8caz50GenericAffine.mat', 'C:\\\\Users\\\\CHEEZY~1\\\\AppData\\\\Local\\\\Temp\\\\tmpamf8caz51InverseWarp.nii.gz']}\n"
     ]
    }
   ],
   "source": [
    "print(transformation)"
   ]
  },
  {
   "cell_type": "code",
   "execution_count": 10,
   "id": "3e1431ac",
   "metadata": {},
   "outputs": [
    {
     "data": {
      "application/vnd.jupyter.widget-view+json": {
       "model_id": "23221d0e2de441da9a65edf7321d4062",
       "version_major": 2,
       "version_minor": 0
      },
      "text/plain": [
       "interactive(children=(IntSlider(value=95, description='SLICE', max=191), Output()), _dom_classes=('widget-inte…"
      ]
     },
     "metadata": {},
     "output_type": "display_data"
    }
   ],
   "source": [
    "registered_img_ants = transformation['warpedmovout']\n",
    "\n",
    "explore_3D_array_comparison(\n",
    "    arr_before = raw_img_ants.numpy(),\n",
    "    arr_after = registered_img_ants.numpy()\n",
    ")"
   ]
  },
  {
   "cell_type": "code",
   "execution_count": 12,
   "id": "516cdcc5",
   "metadata": {},
   "outputs": [],
   "source": [
    "mask_img_path = os.path.join(BASE_DIR, 'assets', 'raw_examples', 'brain-lesion_T1w_mask.nii.gz')\n",
    "mask_template_img_ants = ants.image_read(mask_img_path, reorient = 'IAL')\n"
   ]
  },
  {
   "cell_type": "markdown",
   "id": "282b4d47",
   "metadata": {},
   "source": [
    "Apply the generated transformations to the mask of template"
   ]
  },
  {
   "cell_type": "code",
   "execution_count": 14,
   "id": "1994b78c",
   "metadata": {},
   "outputs": [
    {
     "name": "stdout",
     "output_type": "stream",
     "text": [
      "['-d', '3', '-i', '00000242C1CDEBE8', '-o', '00000242B94A3D28', '-r', '00000242C1CDEEC8', '-n', 'nearestNeighbor', '-t', 'C:\\\\Users\\\\CHEEZY~1\\\\AppData\\\\Local\\\\Temp\\\\tmpamf8caz51Warp.nii.gz', '-t', 'C:\\\\Users\\\\CHEEZY~1\\\\AppData\\\\Local\\\\Temp\\\\tmpamf8caz50GenericAffine.mat']\n"
     ]
    }
   ],
   "source": [
    "brain_mask = ants.apply_transforms(\n",
    "    fixed = transformation['warpedmovout'],\n",
    "    moving = mask_template_img_ants,\n",
    "    transformlist = transformation['fwdtransforms'],\n",
    "    interpolator = 'nearestNeighbor',\n",
    "    verbose = True\n",
    ")"
   ]
  },
  {
   "cell_type": "code",
   "execution_count": null,
   "id": "ff9661fc",
   "metadata": {},
   "outputs": [
    {
     "data": {
      "application/vnd.jupyter.widget-view+json": {
       "model_id": "b156e8df7c054e4ea41c68ec419fb1b0",
       "version_major": 2,
       "version_minor": 0
      },
      "text/plain": [
       "interactive(children=(IntSlider(value=95, description='SLICE', max=191), Output()), _dom_classes=('widget-inte…"
      ]
     },
     "metadata": {},
     "output_type": "display_data"
    }
   ],
   "source": [
    "explore_3D_array( brain_mask.numpy())"
   ]
  },
  {
   "cell_type": "code",
   "execution_count": null,
   "id": "8a76a344",
   "metadata": {},
   "outputs": [],
   "source": []
  }
 ],
 "metadata": {
  "kernelspec": {
   "display_name": ".venv",
   "language": "python",
   "name": "python3"
  },
  "language_info": {
   "codemirror_mode": {
    "name": "ipython",
    "version": 3
   },
   "file_extension": ".py",
   "mimetype": "text/x-python",
   "name": "python",
   "nbconvert_exporter": "python",
   "pygments_lexer": "ipython3",
   "version": "3.12.8"
  }
 },
 "nbformat": 4,
 "nbformat_minor": 5
}
